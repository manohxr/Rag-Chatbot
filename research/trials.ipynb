{
  "cells": [
    {
      "cell_type": "code",
      "execution_count": 2,
      "metadata": {
        "id": "iUGv_XtmAmEF"
      },
      "outputs": [],
      "source": [
        "from langchain.document_loaders import PyPDFLoader, DirectoryLoader\n",
        "from langchain.text_splitter import RecursiveCharacterTextSplitter"
      ]
    },
    {
      "cell_type": "code",
      "execution_count": 3,
      "metadata": {},
      "outputs": [],
      "source": [
        "from dotenv import load_dotenv\n",
        "import os\n",
        "\n",
        "# Load variables from .env\n",
        "load_dotenv()\n",
        "\n",
        "# Get the keys\n",
        "openai_api_key = os.getenv(\"OPENAI_API_KEY\")\n",
        "pinecone_api_key = os.getenv(\"PINECONE_API_KEY\")\n"
      ]
    },
    {
      "cell_type": "code",
      "execution_count": 83,
      "metadata": {
        "colab": {
          "base_uri": "https://localhost:8080/",
          "height": 797
        },
        "id": "yw8NxE1f4gpT",
        "outputId": "fb6f6616-4a21-49a4-b187-e74e0cae06eb"
      },
      "outputs": [],
      "source": [
        "def load_pdf_file(data):\n",
        "    loader = DirectoryLoader(data, glob=\"*.pdf\", loader_cls=PyPDFLoader)\n",
        "    documents = loader.load()\n",
        "    return documents"
      ]
    },
    {
      "cell_type": "code",
      "execution_count": 84,
      "metadata": {},
      "outputs": [
        {
          "data": {
            "text/plain": [
              "'c:\\\\Projects\\\\Rag-Chatbot'"
            ]
          },
          "execution_count": 84,
          "metadata": {},
          "output_type": "execute_result"
        }
      ],
      "source": [
        "%pwd"
      ]
    },
    {
      "cell_type": "code",
      "execution_count": 4,
      "metadata": {},
      "outputs": [],
      "source": [
        "os.chdir(\"../\")"
      ]
    },
    {
      "cell_type": "code",
      "execution_count": 5,
      "metadata": {},
      "outputs": [
        {
          "data": {
            "text/plain": [
              "'c:\\\\Projects\\\\Rag-Chatbot'"
            ]
          },
          "execution_count": 5,
          "metadata": {},
          "output_type": "execute_result"
        }
      ],
      "source": [
        "%pwd"
      ]
    },
    {
      "cell_type": "code",
      "execution_count": 86,
      "metadata": {},
      "outputs": [],
      "source": [
        "extracted_data = load_pdf_file(data='Data/')"
      ]
    },
    {
      "cell_type": "code",
      "execution_count": 87,
      "metadata": {
        "id": "RCNyYSdsDtuo"
      },
      "outputs": [],
      "source": [
        "def chunk_data(docs,chunk_size=800,chunk_overlap=50):\n",
        "    text_splitter=RecursiveCharacterTextSplitter(chunk_size=chunk_size,chunk_overlap=chunk_overlap)\n",
        "    doc=text_splitter.split_documents(docs)\n",
        "    return doc"
      ]
    },
    {
      "cell_type": "code",
      "execution_count": 88,
      "metadata": {
        "colab": {
          "base_uri": "https://localhost:8080/"
        },
        "id": "64EZN3ziD2nU",
        "outputId": "884bd9b5-764e-4ef6-ba15-16c0386ec433"
      },
      "outputs": [
        {
          "data": {
            "text/plain": [
              "[Document(metadata={'producer': 'pdfTeX-1.40.18', 'creator': \"LaTeX with 'moderncv' package\", 'creationdate': '2023-04-04T05:04:00+00:00', 'author': 'Monisha Jegadeesan gray', 'keywords': 'Monisha Jegadeesan gray , curriculum vitæ, resumé', 'moddate': '2023-04-04T05:04:00+00:00', 'ptex.fullbanner': 'This is pdfTeX, Version 3.14159265-2.6-1.40.18 (TeX Live 2017) kpathsea version 6.2.3', 'subject': 'Resumé of Monisha Jegadeesan gray', 'title': 'Monisha Jegadeesan gray  –  Software Engineer, Google', 'trapped': '/False', 'source': 'Data\\\\cv.pdf', 'total_pages': 3, 'page': 0, 'page_label': '1'}, page_content='Monisha Jegadeesan\\nSoftware Engineer, Google\\nH +91 9035212894\\nB monishaj.65@gmail.com\\nÍ monisha-jega.github.io\\nmonisha-jega\\nmonisha-jegadeesan\\nEducation\\n2015-2020 Dual Degree (B.Tech + M.Tech) in Computer Science and Engineering\\nIndian Institute of Technology Madras, Chennai, India CGPA: 8.78\\n2015 XII - Karnataka Board,KLE Society’s Independent PU College, Bangalore 97.30 %\\n2013 X - ICSE,B P Indian Public School, Bangalore 96.33%\\nProfessional Experience\\nDec 2022 -\\nPresent\\nSoftware Engineer, Level IV, Google LLC, New York\\n{ Working on Keep, a notetaking editor in Google Workspace.\\nAug 2020 -\\nNov 2022\\nSoftware Engineer, Level IV, Google India Pvt Ltd, Bangalore\\n{ Developing intelligent features for the Google Workspace Editors (Docs, Slides, Keep, etc) using my expertise on the'),\n",
              " Document(metadata={'producer': 'pdfTeX-1.40.18', 'creator': \"LaTeX with 'moderncv' package\", 'creationdate': '2023-04-04T05:04:00+00:00', 'author': 'Monisha Jegadeesan gray', 'keywords': 'Monisha Jegadeesan gray , curriculum vitæ, resumé', 'moddate': '2023-04-04T05:04:00+00:00', 'ptex.fullbanner': 'This is pdfTeX, Version 3.14159265-2.6-1.40.18 (TeX Live 2017) kpathsea version 6.2.3', 'subject': 'Resumé of Monisha Jegadeesan gray', 'title': 'Monisha Jegadeesan gray  –  Software Engineer, Google', 'trapped': '/False', 'source': 'Data\\\\cv.pdf', 'total_pages': 3, 'page': 0, 'page_label': '1'}, page_content='products’ client-side software, supporting tools and libraries, and natural language processing infrastructure.\\n{ Using cutting-edge frontend tools like Web Assembly and Emscripten, and Google-internal technologies like j2Cl,\\nclient-side cross-platform frameworks and build systems, to develop user-facing features such as spellcheck in encrypted\\ndocuments for ﬁve languages and writing style suggestions for English text.\\n{ Formulating technical designs for independent end-to-end problems, driving cross-team collaboration, upholding software\\nreliability practices, technical-debt resolution and documentation, and proactively identifying areas of future work.\\n{ Guiding junior engineers on programming and software design tasks to enable timely delivery of products to customers.\\nMay 2019 -'),\n",
              " Document(metadata={'producer': 'pdfTeX-1.40.18', 'creator': \"LaTeX with 'moderncv' package\", 'creationdate': '2023-04-04T05:04:00+00:00', 'author': 'Monisha Jegadeesan gray', 'keywords': 'Monisha Jegadeesan gray , curriculum vitæ, resumé', 'moddate': '2023-04-04T05:04:00+00:00', 'ptex.fullbanner': 'This is pdfTeX, Version 3.14159265-2.6-1.40.18 (TeX Live 2017) kpathsea version 6.2.3', 'subject': 'Resumé of Monisha Jegadeesan gray', 'title': 'Monisha Jegadeesan gray  –  Software Engineer, Google', 'trapped': '/False', 'source': 'Data\\\\cv.pdf', 'total_pages': 3, 'page': 0, 'page_label': '1'}, page_content='May 2019 -\\nJuly 2019\\nSoftware Engineering Intern, Google India Pvt Ltd, Bangalore\\nWorked on the Editors client-side software infrastructure to develop a user interface with control options to undo or provide\\nfeedback on the correction and a logging framework, for the Google Docs text auto-correction feature.\\nMay 2018 -\\nJuly 2018\\nResearch Intern, Big Data Experience Labs, Adobe Research, Bangalore\\nDeveloped a mobile application for Text to Scene Conversion in Augmented Reality, based on novel research techniques\\nfor prediction of three-dimensional object sizes and positions from textual features.\\nResearch Experience\\nSep 2019 -\\nMay 2020\\nParaphrase Generation with a Bilingual Model and Continuous Embeddings\\nMaster’s Thesis,Language Technologies Institute, Carnegie Mellon University')]"
            ]
          },
          "execution_count": 88,
          "metadata": {},
          "output_type": "execute_result"
        }
      ],
      "source": [
        "documents=chunk_data(docs=extracted_data)\n",
        "documents[:3]"
      ]
    },
    {
      "cell_type": "markdown",
      "metadata": {
        "id": "C6ENays0mOwx"
      },
      "source": [
        "continue from here"
      ]
    },
    {
      "cell_type": "code",
      "execution_count": 89,
      "metadata": {
        "id": "el6YCp5yi8iE"
      },
      "outputs": [],
      "source": [
        "\n",
        "text = []\n",
        "id = 1\n",
        "for doc in documents:\n",
        "  page_number = doc.metadata['page']\n",
        "  content = doc.page_content\n",
        "  text.append(\n",
        "      {\n",
        "          \"_id\":\"rec\"+str(id),\n",
        "          \"chunk_text\": content\n",
        "      }\n",
        "  )\n",
        "  id+=1"
      ]
    },
    {
      "cell_type": "code",
      "execution_count": 65,
      "metadata": {},
      "outputs": [],
      "source": [
        "text = convert_doc_to_list(documents=documents)"
      ]
    },
    {
      "cell_type": "code",
      "execution_count": 90,
      "metadata": {
        "colab": {
          "base_uri": "https://localhost:8080/"
        },
        "id": "ZeyDSjbClS0e",
        "outputId": "24424822-c650-4934-8ca9-3ffb37a25322"
      },
      "outputs": [
        {
          "data": {
            "text/plain": [
              "14"
            ]
          },
          "execution_count": 90,
          "metadata": {},
          "output_type": "execute_result"
        }
      ],
      "source": [
        "len(text)"
      ]
    },
    {
      "cell_type": "code",
      "execution_count": 6,
      "metadata": {
        "id": "c_uAOmYoe39e"
      },
      "outputs": [],
      "source": [
        "from pinecone import Pinecone, ServerlessSpec\n",
        "\n",
        "pc = Pinecone(api_key=pinecone_api_key)"
      ]
    },
    {
      "cell_type": "code",
      "execution_count": 7,
      "metadata": {
        "id": "csx18zJvjUVz"
      },
      "outputs": [],
      "source": [
        "index_name = \"man\"\n",
        "\n",
        "if not pc.has_index(index_name):\n",
        "    pc.create_index_for_model(\n",
        "        name=index_name,\n",
        "        cloud=\"aws\",\n",
        "        region=\"us-east-1\",\n",
        "        embed={\n",
        "            \"model\":\"llama-text-embed-v2\",\n",
        "            \"field_map\":{\"text\": \"chunk_text\"}\n",
        "        }\n",
        "    )"
      ]
    },
    {
      "cell_type": "code",
      "execution_count": 13,
      "metadata": {
        "id": "quS0aM1pfQqt"
      },
      "outputs": [
        {
          "name": "stderr",
          "output_type": "stream",
          "text": [
            "c:\\Projects\\Rag-Chatbot\\rag_chatbot\\lib\\site-packages\\tqdm\\auto.py:21: TqdmWarning: IProgress not found. Please update jupyter and ipywidgets. See https://ipywidgets.readthedocs.io/en/stable/user_install.html\n",
            "  from .autonotebook import tqdm as notebook_tqdm\n"
          ]
        }
      ],
      "source": [
        "index = pc.Index(host=\"https://man-uzat91r.svc.aped-4627-b74a.pinecone.io\")\n"
      ]
    },
    {
      "cell_type": "code",
      "execution_count": null,
      "metadata": {},
      "outputs": [],
      "source": [
        "x = 0\n",
        "y = 96\n",
        "for i in range(len(text)//96 + 1):\n",
        "  index.upsert_records(\n",
        "      \"example-namespace\",\n",
        "      text[x:y]\n",
        "  )\n",
        "  x += 96\n",
        "  y += 96"
      ]
    },
    {
      "cell_type": "code",
      "execution_count": null,
      "metadata": {
        "id": "MP7JIjsPVI_A"
      },
      "outputs": [],
      "source": [
        "\n",
        "from langchain.schema import Document\n",
        "\n",
        "def retrieve_query(query, k=4):\n",
        "    matching_results = index.search(\n",
        "        namespace=\"example-namespace\",\n",
        "        query={\n",
        "            \"inputs\": {\"text\": query},\n",
        "            \"top_k\": k\n",
        "        },\n",
        "        fields=[\"chunk_text\"]\n",
        "    )\n",
        "\n",
        "    hits = matching_results['result']['hits']\n",
        "\n",
        "    documents = []\n",
        "    for hit in hits:\n",
        "        fields = hit.get('fields', {})\n",
        "        text = fields.get('chunk_text', '')\n",
        "        metadata = {\n",
        "            \"id\": hit.get('_id'),\n",
        "            \"score\": hit.get('_score')\n",
        "        }\n",
        "        documents.append(Document(page_content=text, metadata=metadata))\n",
        "    return documents\n"
      ]
    },
    {
      "cell_type": "code",
      "execution_count": 9,
      "metadata": {
        "id": "Cp8YbWWdVNOW"
      },
      "outputs": [],
      "source": [
        "from langchain.chains.question_answering import load_qa_chain\n",
        "from langchain.chat_models import ChatOpenAI"
      ]
    },
    {
      "cell_type": "code",
      "execution_count": 10,
      "metadata": {
        "id": "WUxMSajhVQ1M"
      },
      "outputs": [
        {
          "name": "stderr",
          "output_type": "stream",
          "text": [
            "C:\\Users\\whoma\\AppData\\Local\\Temp\\ipykernel_23700\\2741113786.py:1: LangChainDeprecationWarning: The class `ChatOpenAI` was deprecated in LangChain 0.0.10 and will be removed in 1.0. An updated version of the class exists in the :class:`~langchain-openai package and should be used instead. To use it run `pip install -U :class:`~langchain-openai` and import as `from :class:`~langchain_openai import ChatOpenAI``.\n",
            "  llm=ChatOpenAI(model_name=\"gpt-3.5-turbo\",temperature=0.5)\n",
            "C:\\Users\\whoma\\AppData\\Local\\Temp\\ipykernel_23700\\2741113786.py:2: LangChainDeprecationWarning: This class is deprecated. See the following migration guides for replacements based on `chain_type`:\n",
            "stuff: https://python.langchain.com/docs/versions/migrating_chains/stuff_docs_chain\n",
            "map_reduce: https://python.langchain.com/docs/versions/migrating_chains/map_reduce_chain\n",
            "refine: https://python.langchain.com/docs/versions/migrating_chains/refine_chain\n",
            "map_rerank: https://python.langchain.com/docs/versions/migrating_chains/map_rerank_docs_chain\n",
            "\n",
            "See also guides on retrieval and question-answering here: https://python.langchain.com/docs/how_to/#qa-with-rag\n",
            "  chain=load_qa_chain(llm, chain_type=\"stuff\")\n"
          ]
        }
      ],
      "source": [
        "llm=ChatOpenAI(model_name=\"gpt-3.5-turbo\",temperature=0.5)\n",
        "chain=load_qa_chain(llm, chain_type=\"stuff\")"
      ]
    },
    {
      "cell_type": "code",
      "execution_count": 27,
      "metadata": {
        "id": "73gnjG_VVUl6"
      },
      "outputs": [],
      "source": [
        "def retrieve_answers(query):\n",
        "    doc_search = retrieve_query(query)\n",
        "\n",
        "    response = chain.invoke({\"input_documents\": doc_search, \"question\": query})\n",
        "    return doc_search\n",
        "    \"\"\"response[\"output_text\"]\"\"\"\n"
      ]
    },
    {
      "cell_type": "code",
      "execution_count": 36,
      "metadata": {
        "colab": {
          "base_uri": "https://localhost:8080/",
          "height": 54
        },
        "id": "2rcHza-rVXQn",
        "outputId": "0d197a29-af24-4cf0-f442-5a1687b79eac"
      },
      "outputs": [
        {
          "name": "stdout",
          "output_type": "stream",
          "text": [
            "4 documents retrieved\n"
          ]
        },
        {
          "data": {
            "text/plain": [
              "0.2440079003572464"
            ]
          },
          "execution_count": 36,
          "metadata": {},
          "output_type": "execute_result"
        }
      ],
      "source": [
        "our_query = \"tell me about monisha's teaching experience\"\n",
        "answer = retrieve_answers(our_query)\n",
        "answer[1].metadata[\"score\"]"
      ]
    }
  ],
  "metadata": {
    "accelerator": "GPU",
    "colab": {
      "gpuType": "T4",
      "provenance": []
    },
    "kernelspec": {
      "display_name": "rag_chatbot",
      "language": "python",
      "name": "python3"
    },
    "language_info": {
      "codemirror_mode": {
        "name": "ipython",
        "version": 3
      },
      "file_extension": ".py",
      "mimetype": "text/x-python",
      "name": "python",
      "nbconvert_exporter": "python",
      "pygments_lexer": "ipython3",
      "version": "3.10.11"
    }
  },
  "nbformat": 4,
  "nbformat_minor": 0
}
