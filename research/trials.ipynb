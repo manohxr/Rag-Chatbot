{
 "cells": [
  {
   "cell_type": "code",
   "execution_count": 1,
   "id": "45f45870",
   "metadata": {},
   "outputs": [
    {
     "data": {
      "text/plain": [
       "'c:\\\\Projects\\\\Rag-Chatbot\\\\research'"
      ]
     },
     "execution_count": 1,
     "metadata": {},
     "output_type": "execute_result"
    }
   ],
   "source": [
    "%pwd"
   ]
  },
  {
   "cell_type": "code",
   "execution_count": 3,
   "id": "891ca3fe",
   "metadata": {},
   "outputs": [],
   "source": [
    "import os\n",
    "os.chdir(\"../\")"
   ]
  },
  {
   "cell_type": "code",
   "execution_count": 24,
   "id": "497cbb84",
   "metadata": {},
   "outputs": [
    {
     "data": {
      "text/plain": [
       "'c:\\\\Projects\\\\Rag-Chatbot'"
      ]
     },
     "execution_count": 24,
     "metadata": {},
     "output_type": "execute_result"
    }
   ],
   "source": [
    "%pwd"
   ]
  },
  {
   "cell_type": "code",
   "execution_count": 25,
   "id": "089d0054",
   "metadata": {},
   "outputs": [],
   "source": [
    "import langchain\n",
    "import pinecone\n",
    "from langchain.document_loaders import PyPDFLoader, DirectoryLoader\n",
    "from langchain.text_splitter import RecursiveCharacterTextSplitter\n",
    "from langchain.embeddings.openai import OpenAIEmbeddings\n",
    "from langchain.vectorstores import Pinecone\n",
    "from langchain.llms import OpenAI"
   ]
  },
  {
   "cell_type": "code",
   "execution_count": 26,
   "id": "44863d7a",
   "metadata": {},
   "outputs": [],
   "source": [
    "#Extract data from pdf\n",
    "def load_pdf_file(data):\n",
    "    loader = DirectoryLoader(data, glob=\"*.pdf\", loader_cls=PyPDFLoader)\n",
    "    documents = loader.load()\n",
    "    return documents"
   ]
  },
  {
   "cell_type": "code",
   "execution_count": 27,
   "id": "61822d4d",
   "metadata": {},
   "outputs": [],
   "source": [
    "extracted_data = load_pdf_file(data='Data/')"
   ]
  },
  {
   "cell_type": "code",
   "execution_count": 28,
   "id": "5c7e08f0",
   "metadata": {},
   "outputs": [
    {
     "data": {
      "text/plain": [
       "[Document(metadata={'producer': 'pdfTeX-1.40.18', 'creator': \"LaTeX with 'moderncv' package\", 'creationdate': '2023-04-04T05:04:00+00:00', 'author': 'Monisha Jegadeesan gray', 'keywords': 'Monisha Jegadeesan gray , curriculum vitæ, resumé', 'moddate': '2023-04-04T05:04:00+00:00', 'ptex.fullbanner': 'This is pdfTeX, Version 3.14159265-2.6-1.40.18 (TeX Live 2017) kpathsea version 6.2.3', 'subject': 'Resumé of Monisha Jegadeesan gray', 'title': 'Monisha Jegadeesan gray  –  Software Engineer, Google', 'trapped': '/False', 'source': 'Data\\\\cv.pdf', 'total_pages': 3, 'page': 0, 'page_label': '1'}, page_content='Monisha Jegadeesan\\nSoftware Engineer, Google\\nH +91 9035212894\\nB monishaj.65@gmail.com\\nÍ monisha-jega.github.io\\nmonisha-jega\\nmonisha-jegadeesan\\nEducation\\n2015-2020 Dual Degree (B.Tech + M.Tech) in Computer Science and Engineering\\nIndian Institute of Technology Madras, Chennai, India CGPA: 8.78\\n2015 XII - Karnataka Board,KLE Society’s Independent PU College, Bangalore 97.30 %\\n2013 X - ICSE,B P Indian Public School, Bangalore 96.33%\\nProfessional Experience\\nDec 2022 -\\nPresent\\nSoftware Engineer, Level IV, Google LLC, New York\\n{ Working on Keep, a notetaking editor in Google Workspace.\\nAug 2020 -\\nNov 2022\\nSoftware Engineer, Level IV, Google India Pvt Ltd, Bangalore\\n{ Developing intelligent features for the Google Workspace Editors (Docs, Slides, Keep, etc) using my expertise on the\\nproducts’ client-side software, supporting tools and libraries, and natural language processing infrastructure.\\n{ Using cutting-edge frontend tools like Web Assembly and Emscripten, and Google-internal technologies like j2Cl,\\nclient-side cross-platform frameworks and build systems, to develop user-facing features such as spellcheck in encrypted\\ndocuments for ﬁve languages and writing style suggestions for English text.\\n{ Formulating technical designs for independent end-to-end problems, driving cross-team collaboration, upholding software\\nreliability practices, technical-debt resolution and documentation, and proactively identifying areas of future work.\\n{ Guiding junior engineers on programming and software design tasks to enable timely delivery of products to customers.\\nMay 2019 -\\nJuly 2019\\nSoftware Engineering Intern, Google India Pvt Ltd, Bangalore\\nWorked on the Editors client-side software infrastructure to develop a user interface with control options to undo or provide\\nfeedback on the correction and a logging framework, for the Google Docs text auto-correction feature.\\nMay 2018 -\\nJuly 2018\\nResearch Intern, Big Data Experience Labs, Adobe Research, Bangalore\\nDeveloped a mobile application for Text to Scene Conversion in Augmented Reality, based on novel research techniques\\nfor prediction of three-dimensional object sizes and positions from textual features.\\nResearch Experience\\nSep 2019 -\\nMay 2020\\nParaphrase Generation with a Bilingual Model and Continuous Embeddings\\nMaster’s Thesis,Language Technologies Institute, Carnegie Mellon University\\nMachinated a novel technique for paraphrase generation using the von Mises-Fisher (vMF) Loss on a transformer network,\\nand showed that it produces superior paraphrases as compared to the log-likelihood model by employing bilingual data to\\ninduce zero-shot paraphrasing, guided byProf. Yulia Tsvetkov.\\nMay 2017 -\\nJuly 2017\\nCognitive Approach to Natural Language Processing\\nResearch Intern,Department of Computer Science and Automation, Indian Institute of Science (IISc), Bangalore\\nDeveloped a cognitive text parser that combines syntactic and semantic approaches, to process textual data into cognitive\\nstructural representations, to be used as a feature extractor for downstream NLP tasks, and demonstrated the correlation\\nof the extracted cognitive features with semantic and syntactic text features, guided by Prof. Veni Madhavan.\\nPublications and Patents\\n[Publication\\nand Poster]\\nImproving the Diversity of Unsupervised Paraphrasing with Embedding Outputs (Paper, Poster)\\nMonisha Jegadeesan, Sachin Kumar, John Wieting, Yulia Tsvetkov\\nIn Workshop on Multilingual Representation Learning,\\nThe 2021 Conference on Empirical Methods in Natural Language Processing (EMNLP 2021)\\n[Publication\\nand Poster]\\nAdversarial Demotion of Gender Bias in Natural Language Generation (Paper, Poster)\\nMonisha Jegadeesan\\nIn ACM CODS-COMAD 2020- Young Researchers’ Symposium\\n[Poster] ARComposer: Authoring Augmented Reality Experiences through Text (Poster)\\nSumit Kumar, Paridhi Maheshwari,Monisha Jegadeesan, Amrit Singhal, Kush Kumar Singh, Kundan Krishna\\nIn ACM User Interface Software and Technology Symposium 2019 (ACM UIST 2019)\\n[Filed Patent] Visualizing Natural Language through 3D Scenes in Augmented Reality\\nSumit Kumar, Paridhi Maheshwari,Monisha Jegadeesan, Amrit Singhal, Kush Kumar Singh, Kundan Krishna\\nFiled at the US PTO (Application Number: 16/247,235)'),\n",
       " Document(metadata={'producer': 'pdfTeX-1.40.18', 'creator': \"LaTeX with 'moderncv' package\", 'creationdate': '2023-04-04T05:04:00+00:00', 'author': 'Monisha Jegadeesan gray', 'keywords': 'Monisha Jegadeesan gray , curriculum vitæ, resumé', 'moddate': '2023-04-04T05:04:00+00:00', 'ptex.fullbanner': 'This is pdfTeX, Version 3.14159265-2.6-1.40.18 (TeX Live 2017) kpathsea version 6.2.3', 'subject': 'Resumé of Monisha Jegadeesan gray', 'title': 'Monisha Jegadeesan gray  –  Software Engineer, Google', 'trapped': '/False', 'source': 'Data\\\\cv.pdf', 'total_pages': 3, 'page': 1, 'page_label': '2'}, page_content='[Publication\\nand Poster]\\nLeveraging Ontological Knowledge for Neural Language Models (Paper, Poster)\\nAmeet Deshpande, Monisha Jegadeesan\\nIn ACM CODS-COMAD 2019- Young Researchers’ Symposium\\nProjects\\nJuly 2019 -\\nDec 2019\\nGraph Neural Networks for Extreme Summarization\\nIndian Institute of Technology Madras\\nFormulated appropriate graph-based deep neural models for the Extreme Summarization (XSum) task with sentence-level\\nand/or document-level graphs, and obtained better performance than simple recurrent and hierarchical models.\\nMarch 2019 -\\nApril 2019\\nRisk-Sensitivity in Multi-Armed Bandits\\nIndian Institute of Technology Madras\\nSurveyed and implemented risk-sensitivity methods for stochastic bandit problems, and upgraded the Explore-Then-Commit\\nalgorithm for VaR and cVaR measures with competent performance.\\nAug 2018 -\\nDec 2018\\nLeveraging Ontological Knowledge for Neural Language Models\\nIndian Institute of Technology Madras\\nIncorporated Weight Initialization in learning word embeddings using the WordNet Ontology for a task in theConstruction\\ndomain, resulting in a faster convergence rate and better representation of domain-speciﬁc terms.\\nJuly 2018 -\\nDec 2018\\nMultimodal Dialogue Generation\\nIndian Institute of Technology Madras\\nDeveloped a deep neural model to establish the positive eﬀect of domain features in the performance of image retrieval in\\nmultimodal dialogue systems and explored the performance of attention and memory-based models with adaptations for\\nmultimodal dialogue and domain knowledge integration.\\nOct 2018 -\\nNov 2018\\nRisk-Sensitive Reinforcement Learning\\nIndian Institute of Technology Madras\\nEmpirically analyzed the existing methods for risk-sensitive reinforcement learning, tested the eﬀectiveness of modiﬁed\\nversions and proposed a new distance-based risk measure and algorithm for Gridworld.\\nFeb 2018 -\\nMarch 2018\\nSummarization and Keyword Extraction using TextRank\\nIndian Institute of Technology Madras\\nAnalysed the TextRank algorithm for keyword extraction with syntactic ﬁlters and augmentation via Explicit Semantic\\nAnalysis, and for text summarization with exploration of various textual similarity methods.\\nNov 2016 -\\nDec 2016\\nScaling Graph Algorithms\\nIndian Institute of Technology Madras\\nImplemented optimized graph algorithms for maximum network ﬂow and ﬁnding a maximum matching in a bipartite graph\\nfor real data graphs with up to 10,000 vertices and 100,000 edges.\\nNov 2017 Skin Disease Diagnostic System\\nMicrosoft code.fun.do Contest, Indian Institute of Technology Madras\\nDesigned a web application that attempts to diagnose skin diseases based on images of the user’s skin powered by a deep\\nneural model trained on a dataset created by scraping images from the web.\\nSept2017 -\\nOct 2017\\nBreakout Game\\nIndian Institute of Technology Madras\\nDeveloped an Android application for the Breakout game with basic playing and scoring features.\\nTeaching Experience\\nJan 2020 -\\nMay 2020\\nNatural Language Processing - Course Teaching Assistant,Indian Institute of Technology Madras\\n{ Designed and evaluated theoretical and practical assignments on various topics in Natural Language Processing.\\n{ Presented lectures on Edit Distance and the Cocke-Young-Kasami (CYK) algorithm, to a class of 70 students.\\n{ Mentored sixteen pairs of students on research projects, with supervision through regular team-wise progress meetings.\\nCourses\\n[Statistical\\nLearning]\\nAdvanced Deep Learning, Deep Learning, Machine Learning, Natural Language Processing, Reinforcement Learning,\\nMulti-Armed Bandits, Probabilistic Graphical Models, Computational Models of Cognition\\n[Curriculum] ComputerNetworks, DatabaseSystems, OperatingSystems, DataStructuresandAlgorithms, Object-OrientedProgramming\\n[Mathematics] Probability-Statistics-Stochastic Processes, Discrete Mathematics, Linear Algebra, Graph Theory\\nSkills\\nLanguages C, C++, C#, Java, Python, HTML, CSS, Javascript, Web Assembly\\nTools Unity, ARCore, Android Studio, Stanford CoreNLP, Git, Bootstrap, jQuery, Emscripten, Blaze, j2Cl'),\n",
       " Document(metadata={'producer': 'pdfTeX-1.40.18', 'creator': \"LaTeX with 'moderncv' package\", 'creationdate': '2023-04-04T05:04:00+00:00', 'author': 'Monisha Jegadeesan gray', 'keywords': 'Monisha Jegadeesan gray , curriculum vitæ, resumé', 'moddate': '2023-04-04T05:04:00+00:00', 'ptex.fullbanner': 'This is pdfTeX, Version 3.14159265-2.6-1.40.18 (TeX Live 2017) kpathsea version 6.2.3', 'subject': 'Resumé of Monisha Jegadeesan gray', 'title': 'Monisha Jegadeesan gray  –  Software Engineer, Google', 'trapped': '/False', 'source': 'Data\\\\cv.pdf', 'total_pages': 3, 'page': 2, 'page_label': '3'}, page_content='Libraries NLTK, django, scipy, pandas, sklearn, gensim, keras, tensorﬂow, pytorch\\nScholastic Achievements\\n{ First runner-up in theAWS Deep Learning Hackathonheld during Shaastra 2018, IIT Madras:\\nDeveloped a prototype for image-translation of English text on signboards and posters into vernacular languages.\\n{ State Rank 17in Karnataka Common Entrance Test for Engineering, 2015, out of approximately 1.2 lakh students.\\n{ Topped respective academic institutions in bothClass X and Class XIIboard exams.\\nPositions of Responsibility\\nJune 2019 Organizer, Management Team,Tech Intern Connect,Google India Pvt Ltd, Bangalore\\n{ Member of the central managing committee that organized a networking event hosting technology interns from the city.\\nJune 2016 -\\nDec 2016\\nTechnical Operations Coordinator,Shaastra 2017, Indian Institute of Technology Madras\\n{ Developed the front-end components of major websites and internal portals for the annual technical fest of IIT Madras.\\nExtra Curricular Activities\\nCultural Trained in and have performed the Indian classical dance form of Bharatanatyam for eight years.\\nSports Part of NSO (Institute Sports) Basketball during the ﬁrst year of engineering (2015-2016).')]"
      ]
     },
     "execution_count": 28,
     "metadata": {},
     "output_type": "execute_result"
    }
   ],
   "source": [
    "extracted_data"
   ]
  },
  {
   "cell_type": "code",
   "execution_count": 29,
   "id": "844e23c9",
   "metadata": {},
   "outputs": [],
   "source": [
    "def chunk_data(extracted_data,chunk_size=300,chunk_overlap=20):\n",
    "    text_splitter=RecursiveCharacterTextSplitter(chunk_size=chunk_size,chunk_overlap=chunk_overlap)\n",
    "    text_chunks=text_splitter.split_documents(extracted_data)\n",
    "    return text_chunks"
   ]
  },
  {
   "cell_type": "code",
   "execution_count": 30,
   "id": "28028786",
   "metadata": {},
   "outputs": [
    {
     "data": {
      "text/plain": [
       "40"
      ]
     },
     "execution_count": 30,
     "metadata": {},
     "output_type": "execute_result"
    }
   ],
   "source": [
    "text_chunks = chunk_data(extracted_data=extracted_data)\n",
    "len(text_chunks)"
   ]
  },
  {
   "cell_type": "code",
   "execution_count": 14,
   "id": "8bca3cc1",
   "metadata": {},
   "outputs": [],
   "source": [
    "#continue from here"
   ]
  },
  {
   "cell_type": "code",
   "execution_count": 31,
   "id": "be19d6a4",
   "metadata": {},
   "outputs": [],
   "source": [
    "from langchain.embeddings import HuggingFaceEmbeddings"
   ]
  },
  {
   "cell_type": "code",
   "execution_count": 32,
   "id": "a363d29c",
   "metadata": {},
   "outputs": [],
   "source": [
    "def download_hugging_face_embeddings():\n",
    "    embeddings = HuggingFaceEmbeddings(model_name='sentence-transformers/all-MiniLM-L6-v2')\n",
    "    return embeddings"
   ]
  },
  {
   "cell_type": "code",
   "execution_count": 33,
   "id": "85627b15",
   "metadata": {},
   "outputs": [],
   "source": [
    "embeddings = download_hugging_face_embeddings()"
   ]
  },
  {
   "cell_type": "code",
   "execution_count": 34,
   "id": "7c58c5a8",
   "metadata": {},
   "outputs": [
    {
     "data": {
      "text/plain": [
       "384"
      ]
     },
     "execution_count": 34,
     "metadata": {},
     "output_type": "execute_result"
    }
   ],
   "source": [
    "query_result = embeddings.embed_query(\"Hello!!\")\n",
    "len(query_result)"
   ]
  },
  {
   "cell_type": "code",
   "execution_count": 35,
   "id": "a61de6a3",
   "metadata": {},
   "outputs": [],
   "source": [
    "from dotenv import load_dotenv\n",
    "load_dotenv()\n",
    "\n",
    "PINECONE_API_KEY = os.getenv(\"pinecone_API_KEY\")\n",
    "OPENAI_API_KEY = os.getenv(\"OPENAI_API_KEY\")"
   ]
  },
  {
   "cell_type": "code",
   "execution_count": 36,
   "id": "31b43218",
   "metadata": {},
   "outputs": [],
   "source": [
    "from pinecone import Pinecone\n",
    "from pinecone import ServerlessSpec\n",
    "\n",
    "pc = Pinecone(api_key=PINECONE_API_KEY)\n",
    "\n",
    "index_name = \"rag-chatbot\"\n",
    "\n",
    "if not pc.has_index(index_name):\n",
    "    pc.create_index(\n",
    "        name=index_name,\n",
    "        vector_type=\"dense\",\n",
    "        dimension=384,\n",
    "        metric=\"cosine\",\n",
    "        spec=ServerlessSpec(\n",
    "            cloud=\"aws\",\n",
    "            region=\"us-east-1\"\n",
    "        ),\n",
    "        deletion_protection=\"disabled\",\n",
    "        tags={\n",
    "            \"environment\": \"development\"\n",
    "        }\n",
    "    )"
   ]
  },
  {
   "cell_type": "code",
   "execution_count": 37,
   "id": "1bbe5122",
   "metadata": {},
   "outputs": [],
   "source": [
    "from langchain_pinecone import PineconeVectorStore\n",
    "\n",
    "docsearch = PineconeVectorStore.from_documents(\n",
    "    documents=text_chunks,\n",
    "    index_name=index_name,\n",
    "    embedding=embeddings\n",
    ")"
   ]
  },
  {
   "cell_type": "code",
   "execution_count": 47,
   "id": "f64d9e46",
   "metadata": {},
   "outputs": [
    {
     "data": {
      "text/plain": [
       "'docsearch = PineconeVectorStore.from_existing_index(\\n    index_name=index_name,\\n    embedding=embeddings\\n)'"
      ]
     },
     "execution_count": 47,
     "metadata": {},
     "output_type": "execute_result"
    }
   ],
   "source": [
    "\"\"\"docsearch = PineconeVectorStore.from_existing_index(\n",
    "    index_name=index_name,\n",
    "    embedding=embeddings\n",
    ")\"\"\""
   ]
  },
  {
   "cell_type": "code",
   "execution_count": 38,
   "id": "4d8f82d1",
   "metadata": {},
   "outputs": [],
   "source": [
    "retriever = docsearch.as_retriever(search_type=\"similarity\", search_kwargs={\"k\":3})"
   ]
  },
  {
   "cell_type": "code",
   "execution_count": 39,
   "id": "5ca51bf6",
   "metadata": {},
   "outputs": [],
   "source": [
    "retrived_docs = retriever.invoke(\"when did monisha create breakout game??\")"
   ]
  },
  {
   "cell_type": "code",
   "execution_count": 40,
   "id": "d018cec0",
   "metadata": {},
   "outputs": [
    {
     "data": {
      "text/plain": [
       "[Document(id='4ba4da4c-42a0-4718-a7f5-ee0ec8e2040f', metadata={'author': 'Monisha Jegadeesan gray', 'creationdate': '2023-04-04T05:04:00+00:00', 'creator': \"LaTeX with 'moderncv' package\", 'keywords': 'Monisha Jegadeesan gray , curriculum vitæ, resumé', 'moddate': '2023-04-04T05:04:00+00:00', 'page': 1.0, 'page_label': '2', 'producer': 'pdfTeX-1.40.18', 'ptex.fullbanner': 'This is pdfTeX, Version 3.14159265-2.6-1.40.18 (TeX Live 2017) kpathsea version 6.2.3', 'source': 'Data\\\\cv.pdf', 'subject': 'Resumé of Monisha Jegadeesan gray', 'title': 'Monisha Jegadeesan gray  –  Software Engineer, Google', 'total_pages': 3.0, 'trapped': '/False'}, page_content='Developed an Android application for the Breakout game with basic playing and scoring features.\\nTeaching Experience\\nJan 2020 -\\nMay 2020\\nNatural Language Processing - Course Teaching Assistant,Indian Institute of Technology Madras'),\n",
       " Document(id='803a4e8b-b93d-48ab-afd8-71ce73d7c263', metadata={'author': 'Monisha Jegadeesan gray', 'creationdate': '2023-04-04T05:04:00+00:00', 'creator': \"LaTeX with 'moderncv' package\", 'keywords': 'Monisha Jegadeesan gray , curriculum vitæ, resumé', 'moddate': '2023-04-04T05:04:00+00:00', 'page': 0.0, 'page_label': '1', 'producer': 'pdfTeX-1.40.18', 'ptex.fullbanner': 'This is pdfTeX, Version 3.14159265-2.6-1.40.18 (TeX Live 2017) kpathsea version 6.2.3', 'source': 'Data\\\\cv.pdf', 'subject': 'Resumé of Monisha Jegadeesan gray', 'title': 'Monisha Jegadeesan gray  –  Software Engineer, Google', 'total_pages': 3.0, 'trapped': '/False'}, page_content='Monisha Jegadeesan\\nSoftware Engineer, Google\\nH +91 9035212894\\nB monishaj.65@gmail.com\\nÍ monisha-jega.github.io\\nmonisha-jega\\nmonisha-jegadeesan\\nEducation\\n2015-2020 Dual Degree (B.Tech + M.Tech) in Computer Science and Engineering\\nIndian Institute of Technology Madras, Chennai, India CGPA: 8.78'),\n",
       " Document(id='1ccc7177-0b1a-4452-84c8-a6d30ae5ab78', metadata={'author': 'Monisha Jegadeesan gray', 'creationdate': '2023-04-04T05:04:00+00:00', 'creator': \"LaTeX with 'moderncv' package\", 'keywords': 'Monisha Jegadeesan gray , curriculum vitæ, resumé', 'moddate': '2023-04-04T05:04:00+00:00', 'page': 0.0, 'page_label': '1', 'producer': 'pdfTeX-1.40.18', 'ptex.fullbanner': 'This is pdfTeX, Version 3.14159265-2.6-1.40.18 (TeX Live 2017) kpathsea version 6.2.3', 'source': 'Data\\\\cv.pdf', 'subject': 'Resumé of Monisha Jegadeesan gray', 'title': 'Monisha Jegadeesan gray  –  Software Engineer, Google', 'total_pages': 3.0, 'trapped': '/False'}, page_content='and Poster]\\nAdversarial Demotion of Gender Bias in Natural Language Generation (Paper, Poster)\\nMonisha Jegadeesan\\nIn ACM CODS-COMAD 2020- Young Researchers’ Symposium\\n[Poster] ARComposer: Authoring Augmented Reality Experiences through Text (Poster)')]"
      ]
     },
     "execution_count": 40,
     "metadata": {},
     "output_type": "execute_result"
    }
   ],
   "source": [
    "retrived_docs"
   ]
  },
  {
   "cell_type": "code",
   "execution_count": 41,
   "id": "a877d959",
   "metadata": {},
   "outputs": [
    {
     "name": "stderr",
     "output_type": "stream",
     "text": [
      "C:\\Users\\whoma\\AppData\\Local\\Temp\\ipykernel_4528\\3993241396.py:2: LangChainDeprecationWarning: The class `OpenAI` was deprecated in LangChain 0.0.10 and will be removed in 1.0. An updated version of the class exists in the :class:`~langchain-openai package and should be used instead. To use it run `pip install -U :class:`~langchain-openai` and import as `from :class:`~langchain_openai import OpenAI``.\n",
      "  llm = OpenAI(temperature=0.4, max_tokens=500)\n"
     ]
    }
   ],
   "source": [
    "from langchain.llms import OpenAI\n",
    "llm = OpenAI(temperature=0.4, max_tokens=500)"
   ]
  },
  {
   "cell_type": "code",
   "execution_count": 42,
   "id": "5f873bee",
   "metadata": {},
   "outputs": [],
   "source": [
    "from langchain.chains import create_retrieval_chain\n",
    "from langchain.chains.combine_documents import create_stuff_documents_chain\n",
    "from langchain_core.prompts import ChatPromptTemplate\n",
    "\n",
    "system_prompt = (\n",
    "    \"you are an assistant in question-answering tasks.\"\n",
    "    \"use the following pieces of retrieved context to answer\"\n",
    "    \"the question. If you dont know the answer, politely say that \"\n",
    "    \"you dont know the answer and give a generic response based on your intelligence.\"\n",
    "    \"{context}\"\n",
    ")\n",
    "\n",
    "prompt = ChatPromptTemplate.from_messages(\n",
    "    [\n",
    "        (\"system\", system_prompt),\n",
    "        (\"human\", \"{input}\")\n",
    "    ]\n",
    ")"
   ]
  },
  {
   "cell_type": "code",
   "execution_count": 43,
   "id": "41c390b7",
   "metadata": {},
   "outputs": [],
   "source": [
    "question_answer_chain = create_stuff_documents_chain(llm, prompt)\n",
    "rag_chain = create_retrieval_chain(retriever, question_answer_chain)"
   ]
  },
  {
   "cell_type": "code",
   "execution_count": 44,
   "id": "c6155daf",
   "metadata": {},
   "outputs": [
    {
     "name": "stdout",
     "output_type": "stream",
     "text": [
      "\n",
      "\n",
      "System: Monisha created the Breakout game as her project during her time as a student at Indian Institute of Technology Madras, from 2015 to 2020.\n"
     ]
    }
   ],
   "source": [
    "response = rag_chain.invoke({\"input\": \"When did monisha create the breakout game as her project?\" })\n",
    "print(response[\"answer\"])"
   ]
  }
 ],
 "metadata": {
  "kernelspec": {
   "display_name": "rag_chatbot",
   "language": "python",
   "name": "python3"
  },
  "language_info": {
   "codemirror_mode": {
    "name": "ipython",
    "version": 3
   },
   "file_extension": ".py",
   "mimetype": "text/x-python",
   "name": "python",
   "nbconvert_exporter": "python",
   "pygments_lexer": "ipython3",
   "version": "3.10.11"
  }
 },
 "nbformat": 4,
 "nbformat_minor": 5
}
